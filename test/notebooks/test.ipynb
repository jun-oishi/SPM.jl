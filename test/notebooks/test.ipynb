{
 "cells": [
  {
   "cell_type": "code",
   "execution_count": 2,
   "id": "915d0cc3",
   "metadata": {},
   "outputs": [
    {
     "name": "stderr",
     "output_type": "stream",
     "text": [
      "\u001b[36m\u001b[1m[ \u001b[22m\u001b[39m\u001b[36m\u001b[1mInfo: \u001b[22m\u001b[39mPrecompiling Plots [91a5bcdd-55d7-5caf-9e0b-520d859cae80]\n",
      "\u001b[33m\u001b[1m┌ \u001b[22m\u001b[39m\u001b[33m\u001b[1mWarning: \u001b[22m\u001b[39mbackend `GR` is not installed.\n",
      "\u001b[33m\u001b[1m└ \u001b[22m\u001b[39m\u001b[90m@ Plots ~/.julia/packages/Plots/nuwp4/src/backends.jl:37\u001b[39m\n",
      "\u001b[36m\u001b[1m[ \u001b[22m\u001b[39m\u001b[36m\u001b[1mInfo: \u001b[22m\u001b[39mGR\n",
      "\u001b[36m\u001b[1m[ \u001b[22m\u001b[39m\u001b[36m\u001b[1mInfo: \u001b[22m\u001b[39mPrecompiling PyPlot [d330b81b-6aea-500a-939a-2ce795aea3ee]\n",
      "\u001b[36m\u001b[1m[ \u001b[22m\u001b[39m\u001b[36m\u001b[1mInfo: \u001b[22m\u001b[39mPrecompiling MDToolbox [7965e2f0-a35b-11e8-0207-19c030dd2def]\n",
      "WARNING: method definition for rotate! at /Users/jun/.julia/packages/MDToolbox/3PNYY/src/docking.jl:893 declares type variable U but does not use it.\n",
      "WARNING: method definition for rotate_with_matrix! at /Users/jun/.julia/packages/MDToolbox/3PNYY/src/docking.jl:915 declares type variable U but does not use it.\n",
      "\u001b[36m\u001b[1m[ \u001b[22m\u001b[39m\u001b[36m\u001b[1mInfo: \u001b[22m\u001b[39mPrecompiling Flux [587475ba-b771-5e3f-ad9e-33799f191a9c]\n"
     ]
    },
    {
     "ename": "LoadError",
     "evalue": "InterruptException:",
     "output_type": "error",
     "traceback": [
      "InterruptException:",
      "",
      "Stacktrace:",
      " [1] eval",
      "   @ ./boot.jl:368 [inlined]",
      " [2] _initialize_backend(pkg::Plots.PyPlotBackend)",
      "   @ Plots ~/.julia/packages/Plots/nuwp4/src/backends.jl:809",
      " [3] backend(pkg::Plots.PyPlotBackend)",
      "   @ Plots ~/.julia/packages/Plots/nuwp4/src/backends.jl:260",
      " [4] #pyplot#313",
      "   @ ~/.julia/packages/Plots/nuwp4/src/backends.jl:81 [inlined]",
      " [5] pyplot()",
      "   @ Plots ~/.julia/packages/Plots/nuwp4/src/backends.jl:81"
     ]
    }
   ],
   "source": [
    "include(\"../../src/SPM.jl\")\n",
    "using Plots, Pyplot, Statistics, DelimitedFiles\n",
    "pyplot()"
   ]
  },
  {
   "cell_type": "code",
   "execution_count": null,
   "id": "9413cbf8",
   "metadata": {
    "scrolled": true
   },
   "outputs": [],
   "source": [
    "image = SPM.HDR.loadHDR(\"test/data/B3446.hdr\")\n",
    "SPM.SPMCore.showHeatmap(image; legend=true)"
   ]
  },
  {
   "cell_type": "code",
   "execution_count": null,
   "id": "b348f5f4",
   "metadata": {},
   "outputs": [],
   "source": [
    "extract_size = (128,128)\n",
    "lowerlefts = [\n",
    "    (15,1), (210,1), (40,130), \n",
    "    (290,85), (130,70), (170, 160), \n",
    "    (20, 280), (280, 250), (200, 370)\n",
    "]\n",
    "plots = Vector{Plots.Plot}(undef, length(lowerlefts))\n",
    "extracted_images = Vector{SPM.Image}(undef, length(lowerlefts))\n",
    "for i = eachindex(lowerlefts)\n",
    "    ll  = lowerlefts[i]\n",
    "    extracted_images[i] = SPM.extract(image, ll, extract_size)\n",
    "    extracted_images[i].data .= extracted_images[i].data .- minimum(extracted_images[i].data)\n",
    "    plots[i] = SPM.showHeatmap(extracted_images[i]; title=\"$(ll)\", legend=true)\n",
    "end\n",
    "\n",
    "plot(plots..., layout=(3,3), size=(1200, 1080))"
   ]
  },
  {
   "cell_type": "code",
   "execution_count": null,
   "id": "7e586340",
   "metadata": {},
   "outputs": [],
   "source": [
    "thresholds = [0.01, 0.1, 0.5, 1.0]\n",
    "villarrubiaResults = SPM.BTR.solveVillarrubiaBTRoverThresholds(\n",
    "    extracted_images, 64, thresholds\n",
    ")"
   ]
  },
  {
   "cell_type": "code",
   "execution_count": null,
   "id": "5d503977",
   "metadata": {},
   "outputs": [],
   "source": [
    "plots = Vector{Plots.Plot}(undef, length(villarrubiaResults))\n",
    "for i = eachindex(villarrubiaResults)\n",
    "    result_tip = villarrubiaResults[i].tip\n",
    "    plots[i] = SPM.showHeatmap(result_tip; title=\"thresh=$(thresholds[i])\", legend=true)\n",
    "end\n",
    "plot(plots..., layout=(2,2), size=(1200, 1080))"
   ]
  },
  {
   "cell_type": "code",
   "execution_count": null,
   "id": "55f56843",
   "metadata": {},
   "outputs": [],
   "source": []
  }
 ],
 "metadata": {
  "kernelspec": {
   "display_name": "Julia 1.8.4",
   "language": "julia",
   "name": "julia-1.8"
  },
  "language_info": {
   "file_extension": ".jl",
   "mimetype": "application/julia",
   "name": "julia",
   "version": "1.8.5"
  }
 },
 "nbformat": 4,
 "nbformat_minor": 5
}
